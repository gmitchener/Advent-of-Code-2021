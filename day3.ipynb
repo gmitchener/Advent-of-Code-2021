{
 "cells": [
  {
   "cell_type": "code",
   "execution_count": 6,
   "metadata": {},
   "outputs": [],
   "source": [
    "import pandas as pd"
   ]
  },
  {
   "cell_type": "code",
   "execution_count": 2,
   "metadata": {},
   "outputs": [],
   "source": [
    "test_report = ['00100','11110','10110','10111','10101','01111','00111','11100','10000','11001','00010','01010']"
   ]
  },
  {
   "cell_type": "code",
   "execution_count": 285,
   "metadata": {},
   "outputs": [],
   "source": [
    "data = open('day3.txt', 'r').read()"
   ]
  },
  {
   "cell_type": "code",
   "execution_count": 286,
   "metadata": {},
   "outputs": [],
   "source": [
    "data = data.split('\\n')"
   ]
  },
  {
   "cell_type": "code",
   "execution_count": 252,
   "metadata": {},
   "outputs": [],
   "source": [
    "def most_common(report,i):\n",
    "    zero = 0\n",
    "    one = 0\n",
    "    for j in range(len(report)):\n",
    "        val = int(report[j][i])\n",
    "        if val == 0:\n",
    "            zero += 1\n",
    "        if val == 1:\n",
    "            one += 1\n",
    "    if zero > one:\n",
    "        return 0\n",
    "    else:\n",
    "        return 1\n",
    "\n",
    "def gamma(report):\n",
    "    binary = []\n",
    "    for i in range(len(report[0])):\n",
    "        binary.append(most_common(report,i))\n",
    "    return binary\n",
    "\n",
    "def epsilon(report):\n",
    "    binary = []\n",
    "    for i in range(len(report[0])):\n",
    "        binary.append((most_common(report,i)-1)**2)\n",
    "    return binary"
   ]
  },
  {
   "cell_type": "code",
   "execution_count": 315,
   "metadata": {},
   "outputs": [],
   "source": [
    "def binary_converter(binary):\n",
    "    sum = 0\n",
    "    for i in range(len(binary)):\n",
    "        power = 2**(len(binary)-i-1)\n",
    "        sum += int(binary[i])*power\n",
    "    return sum\n"
   ]
  },
  {
   "cell_type": "code",
   "execution_count": 273,
   "metadata": {},
   "outputs": [],
   "source": [
    "def power_consumption(report):\n",
    "    return binary_converter(gamma(report))*binary_converter(epsilon(report))"
   ]
  },
  {
   "cell_type": "code",
   "execution_count": 290,
   "metadata": {},
   "outputs": [
    {
     "data": {
      "text/plain": [
       "1458194"
      ]
     },
     "execution_count": 290,
     "metadata": {},
     "output_type": "execute_result"
    }
   ],
   "source": [
    "power_consumption(data)"
   ]
  },
  {
   "cell_type": "code",
   "execution_count": 368,
   "metadata": {},
   "outputs": [],
   "source": [
    "def oxygen(report,j):\n",
    "    mc = most_common(report,j)\n",
    "    oxygen = []\n",
    "\n",
    "    for i in range(len(report)):\n",
    "        if int(report[i][j]) == mc:\n",
    "            oxygen.append(report[i])\n",
    "    return oxygen\n",
    "\n",
    "def oxygen_val(report):\n",
    "    new_ox = report\n",
    "    for i in range(len(report[0])):\n",
    "        new_ox = oxygen(new_ox,i)\n",
    "        if len(new_ox) == 1:\n",
    "            return binary_converter([i for i in new_ox[0]])\n"
   ]
  },
  {
   "cell_type": "code",
   "execution_count": 369,
   "metadata": {},
   "outputs": [],
   "source": [
    "def co2(report,j):\n",
    "    lc = (most_common(report,j)-1)**2\n",
    "    co2 = []\n",
    "\n",
    "    for i in range(len(report)):\n",
    "        if int(report[i][j]) == lc:\n",
    "            co2.append(report[i])\n",
    "    return co2\n",
    "\n",
    "def co2_val(report):\n",
    "    new_co2 = report\n",
    "    for i in range(len(report[0])):\n",
    "        new_co2 = co2(new_co2,i)\n",
    "        if len(new_co2) == 1:\n",
    "            return binary_converter([i for i in new_co2[0]])"
   ]
  },
  {
   "cell_type": "code",
   "execution_count": 372,
   "metadata": {},
   "outputs": [],
   "source": [
    "def life_support_rating(report):\n",
    "    return oxygen_val(report)*co2_val(report)"
   ]
  },
  {
   "cell_type": "code",
   "execution_count": 373,
   "metadata": {},
   "outputs": [
    {
     "data": {
      "text/plain": [
       "230"
      ]
     },
     "execution_count": 373,
     "metadata": {},
     "output_type": "execute_result"
    }
   ],
   "source": [
    "life_support_rating(test_report)"
   ]
  },
  {
   "cell_type": "code",
   "execution_count": 374,
   "metadata": {},
   "outputs": [
    {
     "data": {
      "text/plain": [
       "2829354"
      ]
     },
     "execution_count": 374,
     "metadata": {},
     "output_type": "execute_result"
    }
   ],
   "source": [
    "life_support_rating(data)"
   ]
  },
  {
   "cell_type": "code",
   "execution_count": null,
   "metadata": {},
   "outputs": [],
   "source": []
  }
 ],
 "metadata": {
  "interpreter": {
   "hash": "9fec3ab36716fe125c1a0073683c6433cb45ee410fe515abe8040210eb6e3016"
  },
  "kernelspec": {
   "display_name": "Python 3.8.8 64-bit ('base': conda)",
   "language": "python",
   "name": "python3"
  },
  "language_info": {
   "codemirror_mode": {
    "name": "ipython",
    "version": 3
   },
   "file_extension": ".py",
   "mimetype": "text/x-python",
   "name": "python",
   "nbconvert_exporter": "python",
   "pygments_lexer": "ipython3",
   "version": "3.8.8"
  },
  "orig_nbformat": 4
 },
 "nbformat": 4,
 "nbformat_minor": 2
}
