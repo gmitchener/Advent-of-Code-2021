{
 "cells": [
  {
   "cell_type": "code",
   "execution_count": 2,
   "metadata": {},
   "outputs": [],
   "source": [
    "import numpy as np"
   ]
  },
  {
   "cell_type": "code",
   "execution_count": 3,
   "metadata": {},
   "outputs": [],
   "source": [
    "draw = [23,30,70,61,79,49,19,37,64,48,72,34,69,53,15,74,89,38,46,36,28,32,45,2,39,58,11,62,97,40,14,87,96,94,91,92,80,99,6,31,57,98,65,10,33,63,42,17,47,66,26,22,73,27,7,0,55,8,56,29,86,25,4,12,51,60,35,50,5,75,95,44,16,93,21,3,24,52,77,76,43,41,9,84,67,71,83,88,59,68,85,82,1,18,13,78,20,90,81,54]"
   ]
  },
  {
   "cell_type": "code",
   "execution_count": 4,
   "metadata": {},
   "outputs": [],
   "source": [
    "def format_board(board):\n",
    "    for j in range(len(board)):\n",
    "        board[j] = board[j].split()\n",
    "    return board"
   ]
  },
  {
   "cell_type": "code",
   "execution_count": 5,
   "metadata": {},
   "outputs": [],
   "source": [
    "boards = open('day4.txt', 'r').read()\n",
    "boards = boards.split('\\n\\n')\n",
    "new_boards = []\n",
    "for i in range(len(boards)):\n",
    "    new_boards.append(format_board(boards[i].split('\\n')))"
   ]
  },
  {
   "cell_type": "code",
   "execution_count": 6,
   "metadata": {},
   "outputs": [],
   "source": [
    "def cross(draw, board, i, j):\n",
    "    if board[i][j] != 'x':\n",
    "        if int(board[i][j]) == draw:\n",
    "            return 'x'\n",
    "    return board[i][j]\n",
    "\n",
    "def check_bingo(board, i, j):\n",
    "    row = board[i]\n",
    "    col = np.array(board).transpose()[j]\n",
    "    count_row = 0\n",
    "    count_col = 0\n",
    "    for x in range(len(row)):\n",
    "        if row[x] == 'x':\n",
    "            count_row += 1\n",
    "        if col[x] == 'x':\n",
    "            count_col += 1\n",
    "    if count_row == len(row) or count_col == len(col):\n",
    "        return True \n",
    "    else:\n",
    "        return False\n",
    "\n",
    "def play_board(d, board):\n",
    "    bingo = False\n",
    "    for i in range(len(board)):\n",
    "        for j in range(len(board[0])):\n",
    "            board[i][j] = cross(d, board, i, j)\n",
    "            bingo = check_bingo(board, i, j)\n",
    "            if bingo == True:\n",
    "                return board, bingo\n",
    "    return board, bingo\n",
    "    \n",
    "def play(boards, place):\n",
    "    bingo = False\n",
    "    bingo_count = 0\n",
    "    for d in draw:\n",
    "        for board in boards:\n",
    "            winning_board, bingo = play_board(d, board)\n",
    "            if bingo == True:\n",
    "                bingo_count += 1\n",
    "                bingo = False\n",
    "                if bingo_count == place:\n",
    "                    print(f'Bingo no {place}!!')\n",
    "                    return winning_board, d"
   ]
  },
  {
   "cell_type": "code",
   "execution_count": 7,
   "metadata": {},
   "outputs": [],
   "source": [
    "def play_to_place(boards, place):\n",
    "    bingo = False\n",
    "    bingo_count = 0\n",
    "    loosing_boards = np.copy(boards)\n",
    "    for d in draw:\n",
    "        while bingo_count <= place:\n",
    "            for b in range(len(boards)):\n",
    "                board = boards[b]\n",
    "                if board in loosing_boards:\n",
    "                    winning_board, bingo = play_board(d, board)\n",
    "                    if bingo == True:\n",
    "                        print('bingo here')\n",
    "                        bingo_count += 1\n",
    "                        bingo = False\n",
    "                        loosing_boards.pop(b)\n",
    "                        if bingo_count == place:\n",
    "                            print(f'Bingo no {place}!!')\n",
    "                            return winning_board, d\n",
    "\n"
   ]
  },
  {
   "cell_type": "code",
   "execution_count": 44,
   "metadata": {},
   "outputs": [
    {
     "ename": "KeyboardInterrupt",
     "evalue": "",
     "output_type": "error",
     "traceback": [
      "\u001b[1;31m---------------------------------------------------------------------------\u001b[0m",
      "\u001b[1;31mKeyboardInterrupt\u001b[0m                         Traceback (most recent call last)",
      "\u001b[1;32m<ipython-input-44-dfd57331a47c>\u001b[0m in \u001b[0;36m<module>\u001b[1;34m\u001b[0m\n\u001b[1;32m----> 1\u001b[1;33m \u001b[0mwinning_board\u001b[0m\u001b[1;33m,\u001b[0m \u001b[0mwinning_number\u001b[0m \u001b[1;33m=\u001b[0m \u001b[0mplay_to_place\u001b[0m\u001b[1;33m(\u001b[0m\u001b[0mnew_boards\u001b[0m\u001b[1;33m,\u001b[0m \u001b[1;36m1\u001b[0m\u001b[1;33m)\u001b[0m\u001b[1;33m\u001b[0m\u001b[1;33m\u001b[0m\u001b[0m\n\u001b[0m",
      "\u001b[1;32m<ipython-input-43-ddb820cf4a42>\u001b[0m in \u001b[0;36mplay_to_place\u001b[1;34m(boards, place)\u001b[0m\n\u001b[0;32m      8\u001b[0m                 \u001b[0mboard\u001b[0m \u001b[1;33m=\u001b[0m \u001b[0mboards\u001b[0m\u001b[1;33m[\u001b[0m\u001b[0mb\u001b[0m\u001b[1;33m]\u001b[0m\u001b[1;33m\u001b[0m\u001b[1;33m\u001b[0m\u001b[0m\n\u001b[0;32m      9\u001b[0m                 \u001b[1;32mif\u001b[0m \u001b[0mboard\u001b[0m \u001b[1;32min\u001b[0m \u001b[0mloosing_boards\u001b[0m\u001b[1;33m:\u001b[0m\u001b[1;33m\u001b[0m\u001b[1;33m\u001b[0m\u001b[0m\n\u001b[1;32m---> 10\u001b[1;33m                     \u001b[0mwinning_board\u001b[0m\u001b[1;33m,\u001b[0m \u001b[0mbingo\u001b[0m \u001b[1;33m=\u001b[0m \u001b[0mplay_board\u001b[0m\u001b[1;33m(\u001b[0m\u001b[0md\u001b[0m\u001b[1;33m,\u001b[0m \u001b[0mboard\u001b[0m\u001b[1;33m)\u001b[0m\u001b[1;33m\u001b[0m\u001b[1;33m\u001b[0m\u001b[0m\n\u001b[0m\u001b[0;32m     11\u001b[0m                     \u001b[1;32mif\u001b[0m \u001b[0mbingo\u001b[0m \u001b[1;33m==\u001b[0m \u001b[1;32mTrue\u001b[0m\u001b[1;33m:\u001b[0m\u001b[1;33m\u001b[0m\u001b[1;33m\u001b[0m\u001b[0m\n\u001b[0;32m     12\u001b[0m                         \u001b[0mprint\u001b[0m\u001b[1;33m(\u001b[0m\u001b[1;34m'bingo here'\u001b[0m\u001b[1;33m)\u001b[0m\u001b[1;33m\u001b[0m\u001b[1;33m\u001b[0m\u001b[0m\n",
      "\u001b[1;31mKeyboardInterrupt\u001b[0m: "
     ]
    }
   ],
   "source": [
    "winning_board, winning_number = play_to_place(new_boards, 1)"
   ]
  },
  {
   "cell_type": "code",
   "execution_count": 7,
   "metadata": {},
   "outputs": [],
   "source": [
    "def score(winning_board, winning_number):\n",
    "    sum = 0\n",
    "    for i in range(len(winning_board)):\n",
    "        for j in range(len(winning_board[0])):\n",
    "            if winning_board[i][j] != 'x':\n",
    "                sum += int(winning_board[i][j])\n",
    "    return sum*winning_number"
   ]
  },
  {
   "cell_type": "code",
   "execution_count": 26,
   "metadata": {},
   "outputs": [
    {
     "data": {
      "text/plain": [
       "31424"
      ]
     },
     "execution_count": 26,
     "metadata": {},
     "output_type": "execute_result"
    }
   ],
   "source": [
    "score(winning_board, winning_number)"
   ]
  },
  {
   "cell_type": "code",
   "execution_count": 16,
   "metadata": {},
   "outputs": [],
   "source": [
    "last_place = len(boards)"
   ]
  },
  {
   "cell_type": "code",
   "execution_count": 32,
   "metadata": {},
   "outputs": [
    {
     "name": "stdout",
     "output_type": "stream",
     "text": [
      "Bingo no 100!!\n"
     ]
    }
   ],
   "source": [
    "loosing_board, loosing_number = play(new_boards, last_place)"
   ]
  },
  {
   "cell_type": "code",
   "execution_count": 33,
   "metadata": {},
   "outputs": [
    {
     "data": {
      "text/plain": [
       "38220"
      ]
     },
     "execution_count": 33,
     "metadata": {},
     "output_type": "execute_result"
    }
   ],
   "source": [
    "score(loosing_board, loosing_number)"
   ]
  },
  {
   "cell_type": "code",
   "execution_count": 29,
   "metadata": {},
   "outputs": [
    {
     "data": {
      "text/plain": [
       "[['x', 'x', 'x', 'x', 'x'],\n",
       " ['27', '56', '50', '33', '54'],\n",
       " ['67', 'x', '35', '25', '10'],\n",
       " ['93', 'x', 'x', '90', '4'],\n",
       " ['57', 'x', 'x', '83', 'x']]"
      ]
     },
     "execution_count": 29,
     "metadata": {},
     "output_type": "execute_result"
    }
   ],
   "source": [
    "loosing_board"
   ]
  },
  {
   "cell_type": "code",
   "execution_count": 34,
   "metadata": {},
   "outputs": [],
   "source": [
    "test = [0,1,2,3,4,5]"
   ]
  },
  {
   "cell_type": "code",
   "execution_count": 35,
   "metadata": {},
   "outputs": [
    {
     "data": {
      "text/plain": [
       "2"
      ]
     },
     "execution_count": 35,
     "metadata": {},
     "output_type": "execute_result"
    }
   ],
   "source": [
    "test.pop(2)"
   ]
  },
  {
   "cell_type": "code",
   "execution_count": 36,
   "metadata": {},
   "outputs": [
    {
     "data": {
      "text/plain": [
       "[0, 1, 3, 4, 5]"
      ]
     },
     "execution_count": 36,
     "metadata": {},
     "output_type": "execute_result"
    }
   ],
   "source": [
    "test"
   ]
  },
  {
   "cell_type": "code",
   "execution_count": null,
   "metadata": {},
   "outputs": [],
   "source": []
  }
 ],
 "metadata": {
  "interpreter": {
   "hash": "9fec3ab36716fe125c1a0073683c6433cb45ee410fe515abe8040210eb6e3016"
  },
  "kernelspec": {
   "display_name": "Python 3.8.8 64-bit ('base': conda)",
   "language": "python",
   "name": "python3"
  },
  "language_info": {
   "codemirror_mode": {
    "name": "ipython",
    "version": 3
   },
   "file_extension": ".py",
   "mimetype": "text/x-python",
   "name": "python",
   "nbconvert_exporter": "python",
   "pygments_lexer": "ipython3",
   "version": "3.8.8"
  },
  "orig_nbformat": 4
 },
 "nbformat": 4,
 "nbformat_minor": 2
}
