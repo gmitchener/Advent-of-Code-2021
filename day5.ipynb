{
 "cells": [
  {
   "cell_type": "code",
   "execution_count": 1,
   "metadata": {},
   "outputs": [],
   "source": [
    "import regex as re"
   ]
  },
  {
   "cell_type": "code",
   "execution_count": 50,
   "metadata": {},
   "outputs": [],
   "source": [
    "import numpy as np"
   ]
  },
  {
   "cell_type": "code",
   "execution_count": 29,
   "metadata": {},
   "outputs": [],
   "source": [
    "test_data = open('day5_test.txt', 'r').read()\n",
    "test_data = test_data.split('\\n')"
   ]
  },
  {
   "cell_type": "code",
   "execution_count": 100,
   "metadata": {},
   "outputs": [],
   "source": [
    "data = open('day5.txt', 'r').read()\n",
    "data = data.split('\\n')"
   ]
  },
  {
   "cell_type": "code",
   "execution_count": 101,
   "metadata": {},
   "outputs": [],
   "source": [
    "def extract_coord(data):\n",
    "    coords = []\n",
    "    for i in range(len(data)):\n",
    "        coord = re.findall('[0-9]+', data[i])\n",
    "        for j in range(len(coord)):\n",
    "            coord[j] = int(coord[j])\n",
    "        coords.append(coord)\n",
    "    return coords"
   ]
  },
  {
   "cell_type": "code",
   "execution_count": 31,
   "metadata": {},
   "outputs": [],
   "source": [
    "test_data = extract_coord(test_data)"
   ]
  },
  {
   "cell_type": "code",
   "execution_count": 103,
   "metadata": {},
   "outputs": [],
   "source": [
    "data = extract_coord(data)"
   ]
  },
  {
   "cell_type": "code",
   "execution_count": 71,
   "metadata": {},
   "outputs": [],
   "source": [
    "def line(coords):\n",
    "    x1,y1,x2,y2 = coords\n",
    "    if x1 == x2 or y1 == y2:\n",
    "        x = [x1,x2]\n",
    "        X = list(range(min(x), max(x)+1))\n",
    "        y = [y1,y2]\n",
    "        Y = list(range(min(y), max(y)+1))\n",
    "        return X, Y\n",
    "            \n",
    "def update_map(x0,y0):\n",
    "    for i in x0:\n",
    "        for j in y0:\n",
    "            map[j][i] += 1\n",
    "    return map\n",
    "\n",
    "def run_map(lines):\n",
    "    for coords in lines:\n",
    "        x0,y0 = coords\n",
    "        map = update_map(x0,y0)\n",
    "    return map"
   ]
  },
  {
   "cell_type": "code",
   "execution_count": 87,
   "metadata": {},
   "outputs": [],
   "source": [
    "def get_non_diagonal_lines(data):\n",
    "    non_diag_lines = []\n",
    "    for coords in data:\n",
    "        non_diag = line(coords)\n",
    "        if non_diag != None:\n",
    "            non_diag_lines.append(non_diag)\n",
    "    return non_diag_lines\n",
    "    \n",
    "def count_above_2(map):\n",
    "    count = 0\n",
    "    for i in range(len(map)):\n",
    "        for j in range(len(map[0])):\n",
    "            val = map[i][j]\n",
    "            if val >= 2:\n",
    "                count+=1\n",
    "    return count"
   ]
  },
  {
   "cell_type": "code",
   "execution_count": 105,
   "metadata": {},
   "outputs": [],
   "source": [
    "map = np.zeros((1000,1000))\n",
    "updated_map = run_map(get_non_diagonal_lines(data))"
   ]
  },
  {
   "cell_type": "code",
   "execution_count": 106,
   "metadata": {},
   "outputs": [
    {
     "data": {
      "text/plain": [
       "6225"
      ]
     },
     "execution_count": 106,
     "metadata": {},
     "output_type": "execute_result"
    }
   ],
   "source": [
    "count_above_2(updated_map)"
   ]
  },
  {
   "cell_type": "code",
   "execution_count": null,
   "metadata": {},
   "outputs": [],
   "source": []
  }
 ],
 "metadata": {
  "interpreter": {
   "hash": "9fec3ab36716fe125c1a0073683c6433cb45ee410fe515abe8040210eb6e3016"
  },
  "kernelspec": {
   "display_name": "Python 3.8.8 64-bit ('base': conda)",
   "language": "python",
   "name": "python3"
  },
  "language_info": {
   "codemirror_mode": {
    "name": "ipython",
    "version": 3
   },
   "file_extension": ".py",
   "mimetype": "text/x-python",
   "name": "python",
   "nbconvert_exporter": "python",
   "pygments_lexer": "ipython3",
   "version": "3.8.8"
  },
  "orig_nbformat": 4
 },
 "nbformat": 4,
 "nbformat_minor": 2
}
