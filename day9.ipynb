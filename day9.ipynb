{
 "cells": [
  {
   "cell_type": "code",
   "execution_count": 1,
   "metadata": {},
   "outputs": [],
   "source": [
    "test_map = [['2199943210'],['3987894921'],['9856789892'],['8767896789'],['9899965678']]"
   ]
  },
  {
   "cell_type": "code",
   "execution_count": 10,
   "metadata": {},
   "outputs": [],
   "source": [
    "def map_to_list(map):\n",
    "    map_list = []\n",
    "    for i in range(len(map)):\n",
    "        row = []\n",
    "        for j in map[i][0]: \n",
    "            row.append(int(j))\n",
    "        map_list.append(row)\n",
    "    return map_list"
   ]
  },
  {
   "cell_type": "code",
   "execution_count": 12,
   "metadata": {},
   "outputs": [
    {
     "data": {
      "text/plain": [
       "[[2, 1, 9, 9, 9, 4, 3, 2, 1, 0],\n",
       " [3, 9, 8, 7, 8, 9, 4, 9, 2, 1],\n",
       " [9, 8, 5, 6, 7, 8, 9, 8, 9, 2],\n",
       " [8, 7, 6, 7, 8, 9, 6, 7, 8, 9],\n",
       " [9, 8, 9, 9, 9, 6, 5, 6, 7, 8]]"
      ]
     },
     "execution_count": 12,
     "metadata": {},
     "output_type": "execute_result"
    }
   ],
   "source": [
    "test_map_list = map_to_list(test_map)\n",
    "test_map_list"
   ]
  },
  {
   "cell_type": "code",
   "execution_count": 64,
   "metadata": {},
   "outputs": [],
   "source": [
    "data = open('day9.txt', 'r').read()"
   ]
  },
  {
   "cell_type": "code",
   "execution_count": 65,
   "metadata": {},
   "outputs": [],
   "source": [
    "data = data.split('\\n')"
   ]
  },
  {
   "cell_type": "code",
   "execution_count": 68,
   "metadata": {},
   "outputs": [],
   "source": [
    "input_map = []\n",
    "for d in data:\n",
    "    input_map.append([d])"
   ]
  },
  {
   "cell_type": "code",
   "execution_count": 71,
   "metadata": {},
   "outputs": [],
   "source": [
    "input_map = map_to_list(input_map)"
   ]
  },
  {
   "cell_type": "code",
   "execution_count": 56,
   "metadata": {},
   "outputs": [],
   "source": [
    "def get_adjacent(map, i, j):\n",
    "    if i == -1 or j == -1:\n",
    "        return None \n",
    "    try:\n",
    "        return map[i][j]\n",
    "    except IndexError:\n",
    "        return None\n",
    "\n",
    "def get_minimum(map, x, y): \n",
    "    points = []\n",
    "    for i in [x]:\n",
    "        for j in [y]:\n",
    "            points.append(get_adjacent(map, i-1, j))\n",
    "            points.append(get_adjacent(map, i+1, j))\n",
    "            points.append(get_adjacent(map, i, j-1))\n",
    "            points.append(get_adjacent(map, i, j+1))\n",
    "    minimum_adjacent = min([i for i in points if i != None])\n",
    "    if map[x][y] < minimum_adjacent:\n",
    "        return map[x][y] + 1\n",
    "    else:\n",
    "        return 0 \n",
    "        \n",
    "def get_risk_level(map):\n",
    "    risk_level = 0\n",
    "    for x in range(len(map)):\n",
    "        for y in range(len(map[0])):\n",
    "            risk_level += get_minimum(map, x, y)\n",
    "    return risk_level"
   ]
  },
  {
   "cell_type": "code",
   "execution_count": 55,
   "metadata": {},
   "outputs": [
    {
     "data": {
      "text/plain": [
       "15"
      ]
     },
     "execution_count": 55,
     "metadata": {},
     "output_type": "execute_result"
    }
   ],
   "source": [
    "get_risk_level(test_map_list)"
   ]
  },
  {
   "cell_type": "code",
   "execution_count": 72,
   "metadata": {},
   "outputs": [
    {
     "data": {
      "text/plain": [
       "585"
      ]
     },
     "execution_count": 72,
     "metadata": {},
     "output_type": "execute_result"
    }
   ],
   "source": [
    "get_risk_level(input_map)"
   ]
  },
  {
   "cell_type": "code",
   "execution_count": null,
   "metadata": {},
   "outputs": [],
   "source": []
  }
 ],
 "metadata": {
  "interpreter": {
   "hash": "9fec3ab36716fe125c1a0073683c6433cb45ee410fe515abe8040210eb6e3016"
  },
  "kernelspec": {
   "display_name": "Python 3.8.8 64-bit ('base': conda)",
   "language": "python",
   "name": "python3"
  },
  "language_info": {
   "codemirror_mode": {
    "name": "ipython",
    "version": 3
   },
   "file_extension": ".py",
   "mimetype": "text/x-python",
   "name": "python",
   "nbconvert_exporter": "python",
   "pygments_lexer": "ipython3",
   "version": "3.8.8"
  },
  "orig_nbformat": 4
 },
 "nbformat": 4,
 "nbformat_minor": 2
}
